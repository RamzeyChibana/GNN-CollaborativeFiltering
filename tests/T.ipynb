{
 "cells": [
  {
   "cell_type": "code",
   "execution_count": 4,
   "metadata": {},
   "outputs": [],
   "source": [
    "import torch \n",
    "import pandas as pd\n",
    "import numpy as np\n",
    "import random as rd\n",
    "import networkx as nx\n",
    "import matplotlib.pyplot as plt\n"
   ]
  },
  {
   "cell_type": "code",
   "execution_count": 2,
   "metadata": {},
   "outputs": [
    {
     "name": "stdout",
     "output_type": "stream",
     "text": [
      "   movie_id                               title                        genres  \\\n",
      "0         1                    Toy Story (1995)   Animation|Children's|Comedy   \n",
      "1         2                      Jumanji (1995)  Adventure|Children's|Fantasy   \n",
      "2         3             Grumpier Old Men (1995)                Comedy|Romance   \n",
      "3         4            Waiting to Exhale (1995)                  Comedy|Drama   \n",
      "4         5  Father of the Bride Part II (1995)                        Comedy   \n",
      "\n",
      "   movie_ID  \n",
      "0         0  \n",
      "1         1  \n",
      "2         2  \n",
      "3         3  \n",
      "4         4  \n"
     ]
    },
    {
     "data": {
      "text/html": [
       "<div>\n",
       "<style scoped>\n",
       "    .dataframe tbody tr th:only-of-type {\n",
       "        vertical-align: middle;\n",
       "    }\n",
       "\n",
       "    .dataframe tbody tr th {\n",
       "        vertical-align: top;\n",
       "    }\n",
       "\n",
       "    .dataframe thead th {\n",
       "        text-align: right;\n",
       "    }\n",
       "</style>\n",
       "<table border=\"1\" class=\"dataframe\">\n",
       "  <thead>\n",
       "    <tr style=\"text-align: right;\">\n",
       "      <th></th>\n",
       "      <th>user_id</th>\n",
       "      <th>movie_id</th>\n",
       "      <th>rating</th>\n",
       "      <th>timestamp</th>\n",
       "      <th>user_ID</th>\n",
       "      <th>movie_ID</th>\n",
       "    </tr>\n",
       "  </thead>\n",
       "  <tbody>\n",
       "    <tr>\n",
       "      <th>0</th>\n",
       "      <td>1</td>\n",
       "      <td>1193</td>\n",
       "      <td>5</td>\n",
       "      <td>978300760</td>\n",
       "      <td>0</td>\n",
       "      <td>1176</td>\n",
       "    </tr>\n",
       "    <tr>\n",
       "      <th>1</th>\n",
       "      <td>2</td>\n",
       "      <td>1193</td>\n",
       "      <td>5</td>\n",
       "      <td>978298413</td>\n",
       "      <td>1</td>\n",
       "      <td>1176</td>\n",
       "    </tr>\n",
       "    <tr>\n",
       "      <th>2</th>\n",
       "      <td>12</td>\n",
       "      <td>1193</td>\n",
       "      <td>4</td>\n",
       "      <td>978220179</td>\n",
       "      <td>11</td>\n",
       "      <td>1176</td>\n",
       "    </tr>\n",
       "    <tr>\n",
       "      <th>3</th>\n",
       "      <td>15</td>\n",
       "      <td>1193</td>\n",
       "      <td>4</td>\n",
       "      <td>978199279</td>\n",
       "      <td>14</td>\n",
       "      <td>1176</td>\n",
       "    </tr>\n",
       "    <tr>\n",
       "      <th>4</th>\n",
       "      <td>17</td>\n",
       "      <td>1193</td>\n",
       "      <td>5</td>\n",
       "      <td>978158471</td>\n",
       "      <td>16</td>\n",
       "      <td>1176</td>\n",
       "    </tr>\n",
       "  </tbody>\n",
       "</table>\n",
       "</div>"
      ],
      "text/plain": [
       "   user_id  movie_id  rating  timestamp  user_ID  movie_ID\n",
       "0        1      1193       5  978300760        0      1176\n",
       "1        2      1193       5  978298413        1      1176\n",
       "2       12      1193       4  978220179       11      1176\n",
       "3       15      1193       4  978199279       14      1176\n",
       "4       17      1193       5  978158471       16      1176"
      ]
     },
     "execution_count": 2,
     "metadata": {},
     "output_type": "execute_result"
    }
   ],
   "source": [
    "movies = pd.read_csv(\"./Data/movies.csv\",encoding=\"latin-1\",sep=\"\\t\")\n",
    "movies[\"movie_ID\"] = np.arange(stop=movies.shape[0]) \n",
    "\n",
    "users = pd.read_csv(\"./Data/users.csv\",encoding=\"latin-1\",sep=\"\\t\")\n",
    "users[\"user_ID\"] = np.arange(stop=users.shape[0]) \n",
    "\n",
    "ratings = pd.read_csv(\"./Data/ratings.csv\",encoding=\"latin-1\",sep=\"\\t\")\n",
    "\n",
    "edges = pd.merge(pd.merge(ratings,users[[\"user_id\",\"user_ID\"]],on=\"user_id\"),movies[[\"movie_id\",\"movie_ID\"]],on=\"movie_id\")\n",
    "\n",
    "print(movies.head())\n",
    "edges.head()"
   ]
  },
  {
   "cell_type": "code",
   "execution_count": 3,
   "metadata": {},
   "outputs": [
    {
     "data": {
      "text/plain": [
       "array([[   0, 1176],\n",
       "       [   1, 1176],\n",
       "       [  11, 1176],\n",
       "       ...,\n",
       "       [5779, 2776],\n",
       "       [5850, 3538],\n",
       "       [5937, 2840]])"
      ]
     },
     "execution_count": 3,
     "metadata": {},
     "output_type": "execute_result"
    }
   ],
   "source": [
    "class MovieLens1m:\n",
    "    def __init__(self,batch_size) :\n",
    "        self.batch_size = batch_size\n",
    "        self.items = pd.read_csv(\"./Data/movies.csv\",encoding=\"latin-1\",sep=\"\\t\")\n",
    "        self.items[\"movie_ID\"] = np.arange(stop=movies.shape[0]) \n",
    "\n",
    "        self.users = pd.read_csv(\"./Data/users.csv\",encoding=\"latin-1\",sep=\"\\t\")\n",
    "        self.users[\"user_ID\"] = np.arange(stop=users.shape[0]) \n",
    "\n",
    "        self.ratings = pd.read_csv(\"./Data/ratings.csv\",encoding=\"latin-1\",sep=\"\\t\")\n",
    "\n",
    "        self.ratings = pd.merge(pd.merge(ratings,users[[\"user_id\",\"user_ID\"]],on=\"user_id\"),movies[[\"movie_id\",\"movie_ID\"]],on=\"movie_id\")\n",
    "        \n",
    "\n",
    "                "
   ]
  },
  {
   "cell_type": "code",
   "execution_count": 29,
   "metadata": {},
   "outputs": [
    {
     "name": "stdout",
     "output_type": "stream",
     "text": [
      "{64, 2, 99, 68, 72, 77, 49, 50, 19, 54}\n",
      "{0, 68, 11, 75, 24, 58, 59, 29, 30, 63}\n",
      "{11, 76, 46, 81, 21, 54, 22, 88, 29, 95}\n",
      "{64, 1, 35, 6, 38, 43, 54, 23, 86, 56}\n",
      "{32, 71, 9, 81, 50, 19, 54, 56, 92, 62}\n",
      "{0, 97, 98, 99, 35, 37, 52, 93, 62, 63}\n",
      "{32, 68, 36, 40, 11, 13, 14, 81, 83, 86}\n",
      "{98, 69, 70, 75, 13, 83, 54, 87, 57, 93}\n",
      "{64, 65, 36, 42, 75, 46, 15, 80, 18, 90}\n",
      "{33, 68, 8, 44, 45, 51, 19, 88, 27, 28}\n",
      "{64, 3, 99, 76, 78, 82, 51, 84, 23, 93}\n"
     ]
    }
   ],
   "source": [
    "class dataram:\n",
    "    def __init__(self,batch_size,users) -> None:\n",
    "          self.batch_size = batch_size\n",
    "          self.exist_users = users\n",
    "          self.n_users = len(self.exist_users)\n",
    "    def sample(self):\n",
    "        if self.batch_size <= self.n_users:\n",
    "            users = rd.sample(self.exist_users.tolist(), self.batch_size)\n",
    "        else:\n",
    "            users = [\n",
    "                rd.choice(self.exist_users) for _ in range(self.batch_size)\n",
    "            ]\n",
    "        return users\n",
    "users = np.arange(100)\n",
    "data = dataram(10,users)\n",
    "n_batch = data.n_users//10+1\n",
    "ex = []\n",
    "for batch in range(n_batch):\n",
    "    res=set(data.sample())\n",
    "    print(res)\n",
    "    ex.append(res)\n",
    "    \n",
    "    \n"
   ]
  },
  {
   "cell_type": "code",
   "execution_count": 37,
   "metadata": {},
   "outputs": [
    {
     "name": "stdout",
     "output_type": "stream",
     "text": [
      "batch 0:{64, 2, 99, 68, 72, 77, 49, 50, 19, 54}|intersaction {1: {68}, 2: {54}, 3: {64, 54}, 4: {50, 19, 54}, 5: {99}, 6: {68}, 7: {54}, 8: {64}, 9: {19, 68}, 10: {64, 99}}\n",
      "batch 1:{0, 68, 11, 75, 24, 58, 59, 29, 30, 63}|intersaction {2: {11, 29}, 5: {0, 63}, 6: {11, 68}, 7: {75}, 8: {75}, 9: {68}}\n",
      "batch 2:{11, 76, 46, 81, 21, 54, 22, 88, 29, 95}|intersaction {3: {54}, 4: {81, 54}, 6: {81, 11}, 7: {54}, 8: {46}, 9: {88}, 10: {76}}\n",
      "batch 3:{64, 1, 35, 6, 38, 43, 54, 23, 86, 56}|intersaction {4: {56, 54}, 5: {35}, 6: {86}, 7: {54}, 8: {64}, 10: {64, 23}}\n",
      "batch 4:{32, 71, 9, 81, 50, 19, 54, 56, 92, 62}|intersaction {5: {62}, 6: {32, 81}, 7: {54}, 9: {19}}\n",
      "batch 5:{0, 97, 98, 99, 35, 37, 52, 93, 62, 63}|intersaction {7: {98, 93}, 10: {99, 93}}\n",
      "batch 6:{32, 68, 36, 40, 11, 13, 14, 81, 83, 86}|intersaction {7: {83, 13}, 8: {36}, 9: {68}}\n",
      "batch 7:{98, 69, 70, 75, 13, 83, 54, 87, 57, 93}|intersaction {8: {75}, 10: {93}}\n",
      "batch 8:{64, 65, 36, 42, 75, 46, 15, 80, 18, 90}|intersaction {10: {64}}\n",
      "batch 9:{33, 68, 8, 44, 45, 51, 19, 88, 27, 28}|intersaction {10: {51}}\n",
      "batch 10:{64, 3, 99, 76, 78, 82, 51, 84, 23, 93}|intersaction {}\n"
     ]
    }
   ],
   "source": [
    "for i in range(n_batch):\n",
    "    inters = dict()\n",
    "    for j in range(i+1,n_batch):\n",
    "\n",
    "        inter = ex[i].intersection(ex[j])\n",
    "        if len(inter)!=0 :\n",
    "            inters[j]=inter\n",
    "    print(f\"batch {i}:{ex[i]}|intersaction {inters}\")"
   ]
  }
 ],
 "metadata": {
  "kernelspec": {
   "display_name": "Python 3",
   "language": "python",
   "name": "python3"
  },
  "language_info": {
   "codemirror_mode": {
    "name": "ipython",
    "version": 3
   },
   "file_extension": ".py",
   "mimetype": "text/x-python",
   "name": "python",
   "nbconvert_exporter": "python",
   "pygments_lexer": "ipython3",
   "version": "3.9.7"
  }
 },
 "nbformat": 4,
 "nbformat_minor": 2
}
