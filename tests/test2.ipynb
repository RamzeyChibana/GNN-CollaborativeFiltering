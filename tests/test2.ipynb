{
 "cells": [
  {
   "cell_type": "code",
   "execution_count": 3,
   "metadata": {},
   "outputs": [],
   "source": [
    "import tensorflow as tf\n",
    "import torch\n",
    "import numpy as np"
   ]
  },
  {
   "cell_type": "code",
   "execution_count": 48,
   "metadata": {},
   "outputs": [
    {
     "name": "stdout",
     "output_type": "stream",
     "text": [
      "usrs tensor([[8., 1., 6., 6., 8., 4., 5., 1., 5., 5., 5., 4., 3., 7., 7., 3., 2., 2.,\n",
      "         7., 2.],\n",
      "        [7., 3., 4., 8., 6., 2., 7., 8., 4., 1., 7., 6., 2., 1., 4., 7., 2., 5.,\n",
      "         3., 1.],\n",
      "        [2., 5., 3., 4., 1., 7., 8., 2., 7., 1., 6., 7., 8., 2., 3., 5., 8., 5.,\n",
      "         1., 7.]])\n",
      "pos_items tensor([[4., 6., 4., 4., 6., 3., 3., 1., 6., 4., 5., 7., 7., 4., 8., 2., 6., 1.,\n",
      "         2., 5.],\n",
      "        [6., 2., 7., 6., 1., 1., 6., 7., 6., 5., 1., 1., 1., 8., 8., 5., 2., 4.,\n",
      "         4., 6.],\n",
      "        [4., 5., 3., 5., 4., 8., 6., 2., 4., 6., 1., 4., 4., 5., 5., 4., 3., 7.,\n",
      "         3., 4.]])\n",
      "neg_items tensor([[2., 2., 3., 8., 3., 5., 8., 8., 7., 1., 6., 4., 5., 5., 6., 7., 7., 7.,\n",
      "         8., 5.],\n",
      "        [5., 2., 2., 5., 7., 1., 3., 5., 1., 7., 3., 3., 3., 8., 8., 6., 5., 2.,\n",
      "         7., 6.],\n",
      "        [4., 8., 5., 5., 6., 2., 2., 6., 7., 2., 3., 5., 3., 3., 1., 8., 3., 5.,\n",
      "         2., 2.]])\n"
     ]
    }
   ],
   "source": [
    "def create_bpr_loss(users, pos_items, neg_items):\n",
    "        pos_scores = torch.sum(torch.mul(users, pos_items), axis=1)\n",
    "        neg_scores = torch.sum(torch.mul(users, neg_items), axis=1)\n",
    "\n",
    "        maxi = torch.nn.LogSigmoid()(pos_scores - neg_scores)\n",
    "\n",
    "        mf_loss = -1 * torch.mean(maxi)\n",
    "\n",
    "        # cul regularizer\n",
    "        regularizer = (torch.norm(users) ** 2\n",
    "                       + torch.norm(pos_items) ** 2\n",
    "                       + torch.norm(neg_items) ** 2) / 2\n",
    "        emb_loss = regularizer \n",
    "\n",
    "        return mf_loss + emb_loss, mf_loss, emb_loss\n",
    "\n",
    "def BprLoss(users,pos_items,neg_items):\n",
    "    y_pos = torch.sum(torch.multiply(users,pos_items),dim=1)\n",
    "    y_neg = torch.sum(torch.multiply(users,neg_items),dim=1)\n",
    "\n",
    "    loss = torch.log(torch.sigmoid(y_pos-y_neg))\n",
    "    ln_loss = torch.negative(torch.mean(loss))\n",
    "\n",
    "    regularization = (torch.sum(torch.pow(users,2))  + torch.sum(torch.pow(pos_items,2))  + torch.sum(torch.pow(neg_items,2)) )/ 2\n",
    "    regularization = regularization\n",
    "\n",
    "    emb_loss =  regularization\n",
    "\n",
    "\n",
    "    return ln_loss+emb_loss ,ln_loss,emb_loss\n",
    "\n",
    "users = np.random.randint(1,9,size=(3,20))\n",
    "pos_items = np.random.randint(1,9,size=(3,20))\n",
    "neg_items = np.random.randint(1,9,size=(3,20))\n",
    "\n",
    "users = torch.tensor(users,dtype=torch.float32)\n",
    "pos_items = torch.tensor(pos_items,dtype=torch.float32)\n",
    "neg_items = torch.tensor(neg_items,dtype=torch.float32)\n",
    "\n",
    "\n",
    "print(\"usrs\",users)\n",
    "print(\"pos_items\",pos_items)\n",
    "print(\"neg_items\",neg_items)"
   ]
  },
  {
   "cell_type": "code",
   "execution_count": 49,
   "metadata": {},
   "outputs": [
    {
     "name": "stdout",
     "output_type": "stream",
     "text": [
      "loss: (tensor(2288.8333), tensor(18.3333), tensor(2270.5000))\n",
      "loss t3i: (tensor(2288.8333), tensor(18.3333), tensor(2270.5000))\n"
     ]
    }
   ],
   "source": [
    "loss = create_bpr_loss(users,pos_items,neg_items)\n",
    "loss2 = BprLoss(users,pos_items,neg_items)\n",
    "print(\"loss:\",loss)\n",
    "print(\"loss t3i:\",loss2)"
   ]
  }
 ],
 "metadata": {
  "kernelspec": {
   "display_name": "Python 3",
   "language": "python",
   "name": "python3"
  },
  "language_info": {
   "codemirror_mode": {
    "name": "ipython",
    "version": 3
   },
   "file_extension": ".py",
   "mimetype": "text/x-python",
   "name": "python",
   "nbconvert_exporter": "python",
   "pygments_lexer": "ipython3",
   "version": "3.9.7"
  }
 },
 "nbformat": 4,
 "nbformat_minor": 2
}
