{
 "cells": [
  {
   "cell_type": "code",
   "execution_count": 31,
   "metadata": {},
   "outputs": [],
   "source": [
    "import torch\n",
    "import torch.nn as nn\n",
    "import torch.nn.functional as F\n",
    "from torch_geometric.nn import MessagePassing\n",
    "from torch_geometric.utils import degree\n",
    "from torch_geometric.data import HeteroData\n",
    "import dgl\n"
   ]
  },
  {
   "cell_type": "code",
   "execution_count": 56,
   "metadata": {},
   "outputs": [
    {
     "name": "stdout",
     "output_type": "stream",
     "text": [
      "torch.Size([3, 16])\n"
     ]
    }
   ],
   "source": [
    "num_items , num_users = 3,3\n",
    "h_dim = 16\n",
    "initi = nn.init.xavier_uniform_\n",
    "emb_dict = nn.ParameterDict({\"user\":initi(nn.Parameter(torch.randn(size=(num_users,h_dim)))),\"item\":initi(nn.Parameter(torch.randn(size=(num_items,h_dim))))})\n",
    "print(emb_dict[\"user\"].shape)"
   ]
  },
  {
   "cell_type": "code",
   "execution_count": 32,
   "metadata": {},
   "outputs": [
    {
     "name": "stdout",
     "output_type": "stream",
     "text": [
      "item liked_by user\n",
      "tensor([1., 2., 1., 2.]) tensor([2., 2., 2., 2.]) tensor([0.7071, 0.5000, 0.7071, 0.5000])\n",
      "user follows user\n",
      "tensor([1., 1., 1.]) tensor([1., 1., 1.]) tensor([1., 1., 1.])\n",
      "user likes item\n",
      "tensor([2., 2., 2., 2.]) tensor([1., 2., 1., 2.]) tensor([0.7071, 0.5000, 0.7071, 0.5000])\n"
     ]
    }
   ],
   "source": [
    "\n",
    "g_dict = {\n",
    "            ('user', 'likes', 'item'): ([0, 0, 2, 2],[ 0, 1, 2, 1]),\n",
    "            ('item', 'liked_by', 'user'): ([0, 1, 2, 1], [0, 0, 2, 2]),\n",
    "            ('user', 'follows', 'user'): ([0, 1, 2],[0, 1, 2])}\n",
    "\n",
    "num_dict = {\"user\": 3, \"item\": 3}\n",
    "\n",
    "g = dgl.heterograph(g_dict, num_nodes_dict=num_dict)\n",
    "\n",
    "\n",
    "\n",
    "for srctype, etype, dsttype in g.canonical_etypes:\n",
    "            src, dst = g.edges(etype=(srctype, etype, dsttype))\n",
    "            dst_degree = g.in_degrees(\n",
    "                dst, etype=(srctype, etype, dsttype)\n",
    "            ).float()  # obtain degrees\n",
    "            src_degree = g.out_degrees(\n",
    "                src, etype=(srctype, etype, dsttype)\n",
    "            ).float()\n",
    "            norm = torch.pow(src_degree * dst_degree, -0.5)\n",
    "            print(srctype, etype, dsttype)\n",
    "            print(src_degree,dst_degree,norm)"
   ]
  },
  {
   "cell_type": "code",
   "execution_count": 33,
   "metadata": {},
   "outputs": [
    {
     "name": "stdout",
     "output_type": "stream",
     "text": [
      "tensor([1., 2., 2., 1., 0., 0., 0.])\n"
     ]
    }
   ],
   "source": [
    "x = [1,2,2,1,3,0]\n",
    "print(degree(torch.tensor(x),7))"
   ]
  },
  {
   "cell_type": "code",
   "execution_count": 34,
   "metadata": {},
   "outputs": [],
   "source": [
    "def create_sample_graph_pyg():\n",
    "    # Create a PyG heterogeneous graph\n",
    "    data = HeteroData()\n",
    "\n",
    "    # Add node features for 'user' and 'item' node types\n",
    "    data['user'].x = torch.randint(low=1,high=9,size=(3, 5))  # 3 'user' nodes, feature size 5\n",
    "    data['item'].x = torch.randint(low=10,high=19,size=(3, 5))  # 3 'item' nodes, feature size 5\n",
    "\n",
    "    # Add self-loop edges for 'follows' relation (user-user self-loops)\n",
    "\n",
    "    # Add user-item interaction edges for 'likes' relation (varied interactions)\n",
    "    data['user', 'likes', 'item'].edge_index = torch.tensor([[0, 0, 2, 2], [0, 1, 2, 1]])\n",
    "\n",
    "    # Add item-user interaction edges for 'liked_by' relation (reverse of 'likes')\n",
    "    # data['item', 'liked_by', 'user'].edge_index = torch.tensor([[0, 1, 2, 1], [0, 0, 2, 2]])\n",
    "    data['user', 'follows', 'user'].edge_index = torch.tensor([[0, 1, 2], [0, 1, 2]])  # Self-loops\n",
    "\n",
    "    return data\n",
    "\n",
    "graph = create_sample_graph_pyg()"
   ]
  },
  {
   "cell_type": "code",
   "execution_count": 35,
   "metadata": {},
   "outputs": [],
   "source": [
    "from torch import Tensor\n",
    "\n",
    "\n",
    "class NGCFLayer(MessagePassing):\n",
    "    def __init__(self):\n",
    "        super(NGCFLayer, self).__init__(aggr='add')  # Use 'add' aggregation\n",
    "        \n",
    "\n",
    "        \n",
    "\n",
    "    def forward(self, graph:HeteroData):\n",
    "        # Get node features\n",
    "        feat_dict = {node_type:graph[node_type].x for node_type in graph.node_types}\n",
    "        out_dict = {}\n",
    "        edge_type  = graph.edge_types\n",
    "        \n",
    "        # Prepare message and update functions\n",
    "        funcs = {}\n",
    "        for srctype, etype, dsttype in edge_type:\n",
    "            \n",
    "            print(\"----------------------\",(srctype, etype, dsttype))\n",
    "            edge_index = graph[(srctype, etype, dsttype)].edge_index\n",
    "            src,dst = edge_index\n",
    "            print(edge_index)\n",
    "            if srctype == dsttype:  # For self loops\n",
    "                x = feat_dict[srctype]\n",
    "                out = self.propagate(edge_index, x=x,rit=\"self_loop\")\n",
    "               \n",
    "            else:\n",
    "                norm = degree(dst,graph[dsttype].num_nodes)[dst]\n",
    "                print(f\"degree {dsttype}:\",degree(dst,graph[dsttype].num_nodes)[dst])\n",
    "                print(f\"degree: {srctype}\",degree(src,graph[srctype].num_nodes)[src])\n",
    "                \n",
    "                out = self.propagate(edge_index, x=(feat_dict[srctype],feat_dict[dsttype]),rit=\"cross\",norm=norm.unsqueeze(1))\n",
    "            \n",
    "            if dsttype not in out_dict:\n",
    "                out_dict[dsttype] = out\n",
    "            else:\n",
    "                out_dict[dsttype] += out\n",
    "\n",
    "      \n",
    "        return out_dict\n",
    "    \n",
    "    def message(self,x_j,x_i,rit,norm) -> Tensor:\n",
    "        if rit ==\"self_loop\":\n",
    "            return x_j\n",
    "        print(x_j.shape)\n",
    "        print(x_j)\n",
    "        print(norm.shape)\n",
    "        return x_j*norm\n",
    "\n",
    "\n",
    "\n",
    "\n"
   ]
  },
  {
   "cell_type": "code",
   "execution_count": 36,
   "metadata": {},
   "outputs": [
    {
     "name": "stdout",
     "output_type": "stream",
     "text": [
      "HeteroData(\n",
      "  user={ x=[3, 5] },\n",
      "  item={ x=[3, 5] },\n",
      "  (user, likes, item)={ edge_index=[2, 4] },\n",
      "  (user, follows, user)={ edge_index=[2, 3] }\n",
      ")\n",
      "users\n",
      "tensor([[3, 1, 5, 2, 4],\n",
      "        [3, 7, 1, 6, 2],\n",
      "        [8, 4, 7, 2, 5]])\n",
      "items\n",
      "tensor([[17, 14, 15, 17, 13],\n",
      "        [16, 16, 17, 16, 11],\n",
      "        [11, 11, 12, 10, 11]])\n",
      "edges\n",
      "3\n"
     ]
    }
   ],
   "source": [
    "print(graph)\n",
    "print(\"users\")\n",
    "print(graph[\"user\"].x)\n",
    "print(\"items\")\n",
    "print(graph[\"item\"].x)\n",
    "print(\"edges\")\n",
    "print(graph[\"item\"].num_nodes)\n",
    "# print(graph[('item', 'liked_by', 'user')].edge_index)\n"
   ]
  },
  {
   "cell_type": "code",
   "execution_count": 37,
   "metadata": {},
   "outputs": [
    {
     "name": "stdout",
     "output_type": "stream",
     "text": [
      "---------------------- ('user', 'likes', 'item')\n",
      "tensor([[0, 0, 2, 2],\n",
      "        [0, 1, 2, 1]])\n",
      "degree item: tensor([1., 2., 1., 2.])\n",
      "degree: user tensor([2., 2., 2., 2.])\n",
      "torch.Size([4, 5])\n",
      "tensor([[3, 1, 5, 2, 4],\n",
      "        [3, 1, 5, 2, 4],\n",
      "        [8, 4, 7, 2, 5],\n",
      "        [8, 4, 7, 2, 5]])\n",
      "torch.Size([4, 1])\n",
      "---------------------- ('user', 'follows', 'user')\n",
      "tensor([[0, 1, 2],\n",
      "        [0, 1, 2]])\n",
      "{'item': tensor([[ 3.,  1.,  5.,  2.,  4.],\n",
      "        [22., 10., 24.,  8., 18.],\n",
      "        [ 8.,  4.,  7.,  2.,  5.]]), 'user': tensor([[3, 1, 5, 2, 4],\n",
      "        [3, 7, 1, 6, 2],\n",
      "        [8, 4, 7, 2, 5]])}\n"
     ]
    }
   ],
   "source": [
    "model = NGCFLayer()\n",
    "result = model(graph)\n",
    "print(result)"
   ]
  }
 ],
 "metadata": {
  "kernelspec": {
   "display_name": "Python 3",
   "language": "python",
   "name": "python3"
  },
  "language_info": {
   "codemirror_mode": {
    "name": "ipython",
    "version": 3
   },
   "file_extension": ".py",
   "mimetype": "text/x-python",
   "name": "python",
   "nbconvert_exporter": "python",
   "pygments_lexer": "ipython3",
   "version": "3.9.7"
  }
 },
 "nbformat": 4,
 "nbformat_minor": 2
}
